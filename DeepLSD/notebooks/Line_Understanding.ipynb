{
 "cells": [
  {
   "cell_type": "code",
   "execution_count": 1,
   "id": "42d26ba1",
   "metadata": {},
   "outputs": [],
   "source": [
    "from upload_hypersim import upload_images \n",
    "import process\n",
    "import utils_methods as util\n",
    "\n",
    "import os\n",
    "import numpy as np\n",
    "import cv2\n",
    "import matplotlib\n",
    "import matplotlib.pyplot as plt\n",
    "from matplotlib.colors import LinearSegmentedColormap as lsc\n",
    "import torch\n",
    "import h5py\n",
    "\n",
    "import itertools\n",
    "import numpy as np\n",
    "from numpy import linalg as LA\n",
    "import matplotlib.pyplot as plt\n",
    "\n",
    "from deeplsd.utils.tensor import batch_to_device\n",
    "from deeplsd.models.deeplsd_inference import DeepLSD\n"
   ]
  },
  {
   "cell_type": "markdown",
   "id": "01d8b27e",
   "metadata": {},
   "source": [
    "# Import the Deeplsd model"
   ]
  },
  {
   "cell_type": "code",
   "execution_count": 2,
   "id": "ec122d6b",
   "metadata": {},
   "outputs": [],
   "source": [
    "# Model config\n",
    "device = torch.device('cuda' if torch.cuda.is_available() else 'cpu')\n",
    "conf = {\n",
    "    'detect_lines': True,  \n",
    "    'line_detection_params': {\n",
    "        'merge': False,  \n",
    "        'filtering': True,  \n",
    "        'grad_thresh': 3,\n",
    "        'grad_nfa': True, \n",
    "    }\n",
    "}\n",
    "\n",
    "# Load the model\n",
    "ckpt = '../weights/deeplsd_md.tar'\n",
    "ckpt = torch.load(str(ckpt), map_location='cpu', weights_only=False)\n",
    "net = DeepLSD(conf)\n",
    "net.load_state_dict(ckpt['model'])\n",
    "net = net.to(device).eval()"
   ]
  },
  {
   "cell_type": "markdown",
   "id": "08f7ccb6",
   "metadata": {},
   "source": [
    "# Download the data"
   ]
  },
  {
   "cell_type": "code",
   "execution_count": 3,
   "id": "bd2c4a52",
   "metadata": {},
   "outputs": [],
   "source": [
    "#Define what to import\n",
    "frame_str = \"0001\"\n",
    "# images\n",
    "desired_images = [\n",
    "    \"ai_001_001\",\n",
    "    \"ai_001_004\",\n",
    "    \"ai_001_005\",\n",
    "    \"ai_001_006\",\n",
    "    \"ai_001_007\",\n",
    "    \"ai_001_008\",\n",
    "    \"ai_001_009\",\n",
    "    \"ai_002_001\",\n",
    "    \"ai_002_003\",\n",
    "    \"ai_002_004\",\n",
    "    \"ai_002_005\",\n",
    "    \"ai_002_006\",\n",
    "]\n",
    "#files\n",
    "files_to_download = [\n",
    "    f\"frame.{frame_str}.color.jpg\",\n",
    "    f\"frame.{frame_str}.depth_meters.hdf5\",\n",
    "    f\"frame.{frame_str}.normal_world.hdf5\",\n",
    "    f\"frame.{frame_str}.normal_bump_world.hdf5\",\n",
    "    f\"frame.{frame_str}.position.hdf5\"\n",
    "]"
   ]
  },
  {
   "cell_type": "code",
   "execution_count": 4,
   "id": "a9cf6871",
   "metadata": {},
   "outputs": [
    {
     "name": "stdout",
     "output_type": "stream",
     "text": [
      "Base data folder data already exists.\n"
     ]
    }
   ],
   "source": [
    "# Download\n",
    "upload_images(desired_images, files_to_download)"
   ]
  },
  {
   "cell_type": "markdown",
   "id": "2c35e0e8",
   "metadata": {},
   "source": [
    "# Structural - Textural Classification"
   ]
  },
  {
   "cell_type": "code",
   "execution_count": 5,
   "id": "cab08033",
   "metadata": {},
   "outputs": [],
   "source": [
    "# Define the data directory and the images to process\n",
    "base_data_dir = \"data\"\n",
    "image_ids = desired_images"
   ]
  },
  {
   "cell_type": "code",
   "execution_count": 5,
   "id": "72955d0d",
   "metadata": {
    "scrolled": false
   },
   "outputs": [
    {
     "ename": "NameError",
     "evalue": "name 'process' is not defined",
     "output_type": "error",
     "traceback": [
      "\u001b[0;31m---------------------------------------------------------------------------\u001b[0m",
      "\u001b[0;31mNameError\u001b[0m                                 Traceback (most recent call last)",
      "Cell \u001b[0;32mIn[5], line 8\u001b[0m\n\u001b[1;32m      4\u001b[0m thickness_values \u001b[38;5;241m=\u001b[39m [\u001b[38;5;241m1\u001b[39m]   \n\u001b[1;32m      5\u001b[0m n_columns \u001b[38;5;241m=\u001b[39m \u001b[38;5;241m1\u001b[39m\n\u001b[0;32m----> 8\u001b[0m \u001b[43mprocess\u001b[49m\u001b[38;5;241m.\u001b[39mplot_process(image_ids, base_data_dir, frame_str, depth_thresholds, normal_thresholds,\n\u001b[1;32m      9\u001b[0m                      thickness_values, line_detection_model\u001b[38;5;241m=\u001b[39mnet, device\u001b[38;5;241m=\u001b[39mdevice, n_columns\u001b[38;5;241m=\u001b[39mn_columns,\n\u001b[1;32m     10\u001b[0m                      depth_normal_func\u001b[38;5;241m=\u001b[39mnp\u001b[38;5;241m.\u001b[39mmean, depth_normal_func_str\u001b[38;5;241m=\u001b[39m\u001b[38;5;124m\"\u001b[39m\u001b[38;5;124mMean\u001b[39m\u001b[38;5;124m\"\u001b[39m, \n\u001b[1;32m     11\u001b[0m                      norm_agg_func\u001b[38;5;241m=\u001b[39mLA\u001b[38;5;241m.\u001b[39mnorm)\n",
      "\u001b[0;31mNameError\u001b[0m: name 'process' is not defined"
     ]
    }
   ],
   "source": [
    "# Define arrays for each parameter\n",
    "depth_thresholds = [0.000004]     \n",
    "normal_thresholds = [0.000024]      #Too high\n",
    "thickness_values = [1]   \n",
    "n_columns = 1\n",
    "\n",
    "\n",
    "process.plot_process(image_ids, base_data_dir, frame_str, depth_thresholds, normal_thresholds,\n",
    "                     thickness_values, line_detection_model=net, device=device, n_columns=n_columns,\n",
    "                     depth_normal_func=np.mean, depth_normal_func_str=\"Mean\", \n",
    "                     norm_agg_func=LA.norm)\n"
   ]
  },
  {
   "cell_type": "markdown",
   "id": "e1fe057a",
   "metadata": {},
   "source": [
    "# Coplanarity"
   ]
  },
  {
   "cell_type": "code",
   "execution_count": null,
   "id": "e5e0ca0a",
   "metadata": {},
   "outputs": [],
   "source": []
  },
  {
   "cell_type": "code",
   "execution_count": 1,
   "id": "a2fceab4",
   "metadata": {},
   "outputs": [
    {
     "ename": "NameError",
     "evalue": "name 'os' is not defined",
     "output_type": "error",
     "traceback": [
      "\u001b[0;31m---------------------------------------------------------------------------\u001b[0m",
      "\u001b[0;31mNameError\u001b[0m                                 Traceback (most recent call last)",
      "Cell \u001b[0;32mIn[1], line 4\u001b[0m\n\u001b[1;32m      2\u001b[0m image_id \u001b[38;5;241m=\u001b[39m \u001b[38;5;124m\"\u001b[39m\u001b[38;5;124mai_001_001\u001b[39m\u001b[38;5;124m\"\u001b[39m\n\u001b[1;32m      3\u001b[0m frame_str \u001b[38;5;241m=\u001b[39m \u001b[38;5;124m\"\u001b[39m\u001b[38;5;124m0001\u001b[39m\u001b[38;5;124m\"\u001b[39m\n\u001b[0;32m----> 4\u001b[0m image_dir \u001b[38;5;241m=\u001b[39m \u001b[43mos\u001b[49m\u001b[38;5;241m.\u001b[39mpath\u001b[38;5;241m.\u001b[39mjoin(base_data_dir, image_id)\n\u001b[1;32m      5\u001b[0m composite_planes \u001b[38;5;241m=\u001b[39m util\u001b[38;5;241m.\u001b[39mprocess_image_with_plane_detection(image_dir, \n\u001b[1;32m      6\u001b[0m                                                            image_id, frame_str,\n\u001b[1;32m      7\u001b[0m                                                       spatial_weight\u001b[38;5;241m=\u001b[39m\u001b[38;5;241m0.5\u001b[39m, eps\u001b[38;5;241m=\u001b[39m\u001b[38;5;241m0.5\u001b[39m, \n\u001b[1;32m      8\u001b[0m                                                       min_samples\u001b[38;5;241m=\u001b[39m\u001b[38;5;241m50\u001b[39m)\n",
      "\u001b[0;31mNameError\u001b[0m: name 'os' is not defined"
     ]
    }
   ],
   "source": [
    "base_data_dir = \"data\"\n",
    "image_id = \"ai_001_001\"\n",
    "frame_str = \"0001\"\n",
    "image_dir = os.path.join(base_data_dir, image_id)\n",
    "composite_planes = util.process_image_with_plane_detection(image_dir, \n",
    "                                                           image_id, frame_str,\n",
    "                                                      spatial_weight=0.5, eps=0.5, \n",
    "                                                      min_samples=50)\n"
   ]
  }
 ],
 "metadata": {
  "kernelspec": {
   "display_name": "Python 3 (ipykernel)",
   "language": "python",
   "name": "python3"
  },
  "language_info": {
   "codemirror_mode": {
    "name": "ipython",
    "version": 3
   },
   "file_extension": ".py",
   "mimetype": "text/x-python",
   "name": "python",
   "nbconvert_exporter": "python",
   "pygments_lexer": "ipython3",
   "version": "3.9.21"
  }
 },
 "nbformat": 4,
 "nbformat_minor": 5
}
